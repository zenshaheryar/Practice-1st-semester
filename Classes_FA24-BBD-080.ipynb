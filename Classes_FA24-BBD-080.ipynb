{
 "cells": [
  {
   "cell_type": "code",
   "execution_count": 25,
   "id": "e8a0f8ec-16a1-4eda-9022-b0d9378d8ecd",
   "metadata": {},
   "outputs": [
    {
     "name": "stdout",
     "output_type": "stream",
     "text": [
      "Shaheryar AHMAD\n",
      "18\n",
      "Lahore\n"
     ]
    }
   ],
   "source": [
    "# Create a class Person with attributes name, age, and city.\n",
    "class person: \n",
    "    def __init__(self,name,age,city):\n",
    "        self.name=name\n",
    "        self.age=age \n",
    "        self.city=city\n",
    "the_person = person(\"Shaheryar AHMAD\",18,\"Lahore\")\n",
    "print(the_person.name)\n",
    "print(the_person.age) \n",
    "print(the_person.city)\n"
   ]
  },
  {
   "cell_type": "code",
   "execution_count": 27,
   "id": "344cfd25-04c7-4f13-8b33-6b024ac69bfd",
   "metadata": {},
   "outputs": [
    {
     "name": "stdout",
     "output_type": "stream",
     "text": [
      "Ferrari\n",
      "F150\n",
      "2022\n"
     ]
    }
   ],
   "source": [
    "#Create a class Car with attributes make, model, and year.\n",
    "class car:\n",
    "    def __init__(self, make,model , year):\n",
    "        self.make = make\n",
    "        self.model = model \n",
    "        self.year = year\n",
    "my_car=car(\"Ferrari\",\"F150\",2022)\n",
    "print(my_car.make)\n",
    "print(my_car.model)\n",
    "print(my_car.year)"
   ]
  },
  {
   "cell_type": "code",
   "execution_count": 29,
   "id": "b9633e55-e982-4c88-852b-a275793cd66c",
   "metadata": {},
   "outputs": [
    {
     "name": "stdout",
     "output_type": "stream",
     "text": [
      "Area: 78.53981633974483\n",
      "Circumference: 31.41592653589793\n"
     ]
    }
   ],
   "source": [
    "#Create a class Circle with attributes radius and methods to calculate area and circumference.\n",
    "import math\n",
    "class circle:\n",
    "    def __init__(self, radius):\n",
    "        self.radius = radius\n",
    "    def area(self):\n",
    "        return math.pi * (self.radius ** 2)\n",
    "    def circumference(self):\n",
    "        return 2 * math.pi * self.radius\n",
    "circle = circle(5)\n",
    "print(\"Area:\", circle.area())  \n",
    "print(\"Circumference:\", circle.circumference())"
   ]
  },
  {
   "cell_type": "code",
   "execution_count": 31,
   "id": "25b965a1-1f70-4580-bfbc-f3c799596b18",
   "metadata": {},
   "outputs": [
    {
     "name": "stdout",
     "output_type": "stream",
     "text": [
      "Area: 32\n",
      "Perimeter: 24\n"
     ]
    }
   ],
   "source": [
    "#Create a class Rectangle with attributes length and width and methods to calculate area and perimeter.\n",
    "class Rectangle: \n",
    "    def __init__(self, length, width):\n",
    "        self.length = length\n",
    "        self.width = width\n",
    "    def area(self):\n",
    "        return self.length * self.width\n",
    "    def perimeter(self):\n",
    "        return 2 * (self.length + self.width)\n",
    "rect = Rectangle(4, 8)\n",
    "print(\"Area:\", rect.area())\n",
    "print(\"Perimeter:\", rect.perimeter())\n",
    "\n",
    "    "
   ]
  },
  {
   "cell_type": "code",
   "execution_count": 39,
   "id": "57d738bc-d483-462f-b802-9778cba29bd5",
   "metadata": {},
   "outputs": [
    {
     "name": "stdout",
     "output_type": "stream",
     "text": [
      "Shaheryar AHMAD's average marks are: 68.0\n"
     ]
    }
   ],
   "source": [
    "#Create a class Student with attributes name, roll_number, and marks. Implement a method to calculate the average marks.\n",
    "class Student:\n",
    "    def __init__(self, name, roll_number, marks):\n",
    "        self.name = name\n",
    "        self.roll_number = roll_number\n",
    "        self.marks = marks      \n",
    "    def calculate_average(self):\n",
    "        if len(self.marks) == 0:\n",
    "            return 0  \n",
    "        return sum(self.marks) / len(self.marks)\n",
    "student1 = Student(\"Shaheryar AHMAD\", 196, [40,70,60,80,90])\n",
    "average_marks = student1.calculate_average()\n",
    "print(f\"{student1.name}'s average marks are: {average_marks}\")\n"
   ]
  },
  {
   "cell_type": "code",
   "execution_count": 41,
   "id": "8ad76fef-0d8d-49fa-9f13-10166871d8d4",
   "metadata": {},
   "outputs": [
    {
     "name": "stdout",
     "output_type": "stream",
     "text": [
      "rich dad poor dad\n",
      "sheri\n",
      "1848\n"
     ]
    }
   ],
   "source": [
    "#Create a class Book with attributes title, author, and publication_year.\n",
    "class Book:\n",
    "    def __init__(self, title , author, publication_year):\n",
    "        self.title = title\n",
    "        self.author = author \n",
    "        self.publication_year = publication_year \n",
    "book1 = Book(\"rich dad poor dad\", \"sheri\", 1848)\n",
    "print(book1.title)\n",
    "print(book1.author)\n",
    "print(book1.publication_year)"
   ]
  },
  {
   "cell_type": "code",
   "execution_count": 43,
   "id": "67fb0170-8797-4aa2-b3a9-6a9057ed0b8c",
   "metadata": {},
   "outputs": [
    {
     "name": "stdout",
     "output_type": "stream",
     "text": [
      "Shaheryar\n",
      "100000000\n",
      "Software Engineer\n"
     ]
    }
   ],
   "source": [
    "#Create a class Employee with attributes name, salary, and designation.\n",
    "class Employee:\n",
    "    def __init__(self, name, salary, designation):\n",
    "        self.name = name\n",
    "        self.salary = salary \n",
    "        self.designation = designation\n",
    "Employee1 = Employee(\"Shaheryar\", \"100000000\", \"Software Engineer\")\n",
    "print(Employee1.name)\n",
    "print(Employee1.salary)\n",
    "print(Employee1.designation)"
   ]
  },
  {
   "cell_type": "code",
   "execution_count": 45,
   "id": "c4092178-065e-43e8-a54b-687449262161",
   "metadata": {},
   "outputs": [
    {
     "name": "stdout",
     "output_type": "stream",
     "text": [
      "Account Holder: Shaheryar AHMAD\n",
      "Account Number: 998938980\n",
      "Balance: $10000\n",
      "Deposited $200. New balance: $10200\n",
      "Withdrew $100. New balance: $10100\n",
      "Withdrew $700. New balance: $9400\n"
     ]
    }
   ],
   "source": [
    "#Create a class Bank with attributes name, account_number, and balance. Implement methods to deposit and withdraw money.\n",
    "class Bank:\n",
    "    def __init__(self, name, account_number, balance=0):\n",
    "        self.name = name\n",
    "        self.account_number = account_number\n",
    "        self.balance = balance\n",
    "    def deposit(self, amount):\n",
    "        if amount > 0:\n",
    "            self.balance += amount\n",
    "            print(f\"Deposited ${amount}. New balance: ${self.balance}\")\n",
    "        else:\n",
    "            print(\"Deposit amount must be positive.\")\n",
    "    def withdraw(self, amount):\n",
    "        if amount > 0:\n",
    "            if self.balance >= amount:\n",
    "                self.balance -= amount\n",
    "                print(f\"Withdrew ${amount}. New balance: ${self.balance}\")\n",
    "            else:\n",
    "                print(\"Insufficient funds for this withdrawal.\")\n",
    "        else:\n",
    "            print(\"Withdrawal amount must be positive.\")\n",
    "    def get_balance(self):\n",
    "        return self.balance\n",
    "    def display_account_info(self):\n",
    "        print(f\"Account Holder: {self.name}\")\n",
    "        print(f\"Account Number: {self.account_number}\")\n",
    "        print(f\"Balance: ${self.balance}\")\n",
    "account1 = Bank(\"Shaheryar AHMAD\", \"998938980\", 10000)\n",
    "account1.display_account_info()\n",
    "account1.deposit(200)\n",
    "account1.withdraw(100)\n",
    "account1.withdraw(700)"
   ]
  },
  {
   "cell_type": "code",
   "execution_count": 47,
   "id": "2342ed37-b6a0-41d6-96e0-f45bd4e33ccd",
   "metadata": {},
   "outputs": [
    {
     "name": "stdout",
     "output_type": "stream",
     "text": [
      "Area of Circle: 2827.4333882308138\n",
      "Area of Rectangle: 42\n",
      "Area of Triangle: 27.0\n"
     ]
    }
   ],
   "source": [
    "#Create a class Shape with a method to calculate area. Create subclasses Circle, Rectangle, and Triangle that inherit from Shape and implement their specific area calculations.\n",
    "import math\n",
    "\n",
    "class Shape:\n",
    "    def area(self):\n",
    "        pass\n",
    "class Circle(Shape):\n",
    "    def __init__(self, radius):\n",
    "        self.radius = radius\n",
    "    def area(self):\n",
    "        return math.pi * (self.radius ** 2)\n",
    "class Rectangle(Shape):\n",
    "    def __init__(self, length, width):\n",
    "        self.length = length\n",
    "        self.width = width\n",
    "    def area(self):\n",
    "        return self.length * self.width\n",
    "class Triangle(Shape):\n",
    "    def __init__(self, base, height):\n",
    "        self.base = base\n",
    "        self.height = height\n",
    "    def area(self):\n",
    "        return 0.5 * self.base * self.height\n",
    "circle = Circle(30)\n",
    "print(f\"Area of Circle: {circle.area()}\")\n",
    "rectangle = Rectangle(7, 6)\n",
    "print(f\"Area of Rectangle: {rectangle.area()}\")\n",
    "triangle = Triangle(9, 6)\n",
    "print(f\"Area of Triangle: {triangle.area()}\")\n"
   ]
  },
  {
   "cell_type": "code",
   "execution_count": 23,
   "id": "1be60c0c-f9bd-42b6-a15b-99a49ec47cdf",
   "metadata": {},
   "outputs": [
    {
     "name": "stdout",
     "output_type": "stream",
     "text": [
      "Mynx says: Bark\n",
      "Simba says: Meow\n",
      "Daisy says: Moo\n"
     ]
    }
   ],
   "source": [
    "#Create a class Animal with attributes name and sound. Create subclasses Dog, Cat, and Cow that inherit from Animal and implement their specific sounds.\n",
    "class Animal:\n",
    "    def __init__(self, name, sound):\n",
    "        self.name = name\n",
    "        self.sound = sound\n",
    "\n",
    "    def make_sound(self):\n",
    "        return self.sound\n",
    "\n",
    "class Dog(Animal):\n",
    "    def __init__(self, name):\n",
    "        super().__init__(name, \"Bark\")\n",
    "\n",
    "class Cat(Animal):\n",
    "    def __init__(self, name):\n",
    "        super().__init__(name, \"Meow\")\n",
    "\n",
    "class Cow(Animal):\n",
    "    def __init__(self, name):\n",
    "        super().__init__(name, \"Moo\")\n",
    "\n",
    "# Example usage:\n",
    "dog = Dog(\"rocky\")\n",
    "print(f\"{dog.name} says: {dog.make_sound()}\")\n",
    "cat = Cat(\"bubu\")\n",
    "print(f\"{cat.name} says: {cat.make_sound()}\")\n",
    "cow = Cow(\"Daisy\")\n",
    "print(f\"{cow.name} says: {cow.make_sound()}\")\n"
   ]
  },
  {
   "cell_type": "code",
   "execution_count": null,
   "id": "5d3ceaec-d750-42c2-9a51-1500dee5248b",
   "metadata": {},
   "outputs": [],
   "source": []
  }
 ],
 "metadata": {
  "kernelspec": {
   "display_name": "Python 3 (ipykernel)",
   "language": "python",
   "name": "python3"
  },
  "language_info": {
   "codemirror_mode": {
    "name": "ipython",
    "version": 3
   },
   "file_extension": ".py",
   "mimetype": "text/x-python",
   "name": "python",
   "nbconvert_exporter": "python",
   "pygments_lexer": "ipython3",
   "version": "3.12.4"
  }
 },
 "nbformat": 4,
 "nbformat_minor": 5
}
