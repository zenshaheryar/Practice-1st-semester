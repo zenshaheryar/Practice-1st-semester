{
 "cells": [
  {
   "cell_type": "code",
   "execution_count": 1,
   "id": "c8e73187-ca0b-45d8-abfd-60a23a5c2bd5",
   "metadata": {},
   "outputs": [],
   "source": [
    "#Practice Exercises:\n",
    "#a) Create a dictionary to store information about a person (name, age, city, hobbies)."
   ]
  },
  {
   "cell_type": "code",
   "execution_count": 2,
   "id": "7cb02217-d9b5-46ac-bd89-112e260e9f68",
   "metadata": {},
   "outputs": [
    {
     "name": "stdout",
     "output_type": "stream",
     "text": [
      "{'name': 'Shaheryar AHMAD', 'age': 18, 'city': 'Lahore', 'hobbies': 'football'}\n"
     ]
    }
   ],
   "source": [
    "person = {\n",
    "    \"name\": \"Shaheryar AHMAD\",\n",
    "    \"age\": 18,\n",
    "    \"city\": \"Lahore\",\n",
    "    \"hobbies\": \"football\"\n",
    "}\n",
    "print(person)\n"
   ]
  },
  {
   "cell_type": "code",
   "execution_count": 3,
   "id": "f709b793-05a8-40eb-9e5a-c198bab76bdb",
   "metadata": {},
   "outputs": [
    {
     "name": "stdin",
     "output_type": "stream",
     "text": [
      "Enter a paragraph of text:  klfjsnflkjfr\n"
     ]
    },
    {
     "name": "stdout",
     "output_type": "stream",
     "text": [
      "\n",
      "Word Frequencies:\n",
      "klfjsnflkjfr: 1\n"
     ]
    }
   ],
   "source": [
    "#b)\n",
    "\n",
    "def counting_word_frequency(text):\n",
    "    word_frequencies = {}\n",
    "    \n",
    "    for punctuation_mark in \",.?!;:-'\\\"\":\n",
    "        text = text.replace(punctuation_mark, \"\")\n",
    "    text = text.lower()\n",
    "    word_list = text.split()\n",
    "    \n",
    "    for word in word_list:\n",
    "        if word in word_frequencies:\n",
    "            word_frequencies[word] += 1\n",
    "        else:\n",
    "            word_frequencies[word] = 1\n",
    "    \n",
    "    return word_frequencies\n",
    "\n",
    "if __name__ == \"__main__\":\n",
    "    input_text = input(\"Enter a paragraph of text: \")\n",
    "    frequency_result = counting_word_frequency(input_text)\n",
    "    \n",
    "    print(\"\\nWord Frequencies:\")\n",
    "    for word, count in frequency_result.items():\n",
    "        print(f\"{word}: {count}\")"
   ]
  },
  {
   "cell_type": "code",
   "execution_count": 63,
   "id": "64fa3835-d859-494a-9206-d1e6a9b22e05",
   "metadata": {},
   "outputs": [
    {
     "name": "stdout",
     "output_type": "stream",
     "text": [
      "\n",
      "1. View Inventory\n",
      "2. Add/Update Item\n",
      "3. Remove Item\n",
      "4. Exit\n"
     ]
    },
    {
     "name": "stdin",
     "output_type": "stream",
     "text": [
      "Enter your choice (1-4):  4\n"
     ]
    },
    {
     "name": "stdout",
     "output_type": "stream",
     "text": [
      "Exiting the inventory system. Goodbye!\n"
     ]
    }
   ],
   "source": [
    "#c)\n",
    "\n",
    "def display_inventory(inventory):\n",
    "    if inventory:\n",
    "        print(\"\\nInventory:\")\n",
    "        for item, quantity in inventory.items():\n",
    "            print(f\"{item}: {quantity}\")\n",
    "    else:\n",
    "        print(\"\\nThe inventory is empty.\")\n",
    "    print(\"-\" * 30)\n",
    "\n",
    "\n",
    "def manage_inventory():\n",
    "    inventory = {}  \n",
    "\n",
    "    while True:\n",
    "        print(\"\\n1. View Inventory\\n2. Add/Update Item\\n3. Remove Item\\n4. Exit\")\n",
    "        choice = input(\"Enter your choice (1-4): \").strip()\n",
    "\n",
    "        if choice == \"1\":\n",
    "            display_inventory(inventory)\n",
    "        elif choice == \"2\":\n",
    "            item = input(\"Enter item name: \").strip().lower()\n",
    "            quantity = int(input(f\"Enter quantity for {item}: \"))\n",
    "            inventory[item] = inventory.get(item, 0) + quantity\n",
    "            print(f\"{item} now has a quantity of {inventory[item]}.\")\n",
    "        elif choice == \"3\":\n",
    "            item = input(\"Enter item name to remove: \").strip().lower()\n",
    "            if item in inventory:\n",
    "                del inventory[item]\n",
    "                print(f\"{item} removed from inventory.\")\n",
    "            else:\n",
    "                print(f\"{item} does not exist.\")\n",
    "        elif choice == \"4\":\n",
    "            print(\"Exiting the inventory system. Goodbye!\")\n",
    "            break\n",
    "        else:\n",
    "            print(\"Invalid choice. Please try again.\")\n",
    "\n",
    "manage_inventory()"
   ]
  },
  {
   "cell_type": "code",
   "execution_count": 5,
   "id": "6f55010b-e907-42fc-8934-1a8fc905ec10",
   "metadata": {},
   "outputs": [
    {
     "name": "stdout",
     "output_type": "stream",
     "text": [
      "{'Electronics': 18, 'Books': 20, 'Clothing': 30}\n",
      "The most popular product category is 'Clothing' with a total quantity of 30.\n"
     ]
    }
   ],
   "source": [
    "#d)\n",
    "\n",
    "def find_most_popular_category(orders):\n",
    "    category_count = {} # dictionary initialized\n",
    "\n",
    "    for order in orders: # orders is the list of dictionaries\n",
    "        category = order['category']\n",
    "        quantity = order['quantity']\n",
    "        \n",
    "        category_count[category] = category_count.get(category, 0)  + quantity\n",
    "        \n",
    "    print(category_count)\n",
    "    most_popular_category = max(category_count, key=category_count.get)\n",
    "    max_quantity = category_count[most_popular_category]\n",
    "\n",
    "    return most_popular_category, max_quantity\n",
    "\n",
    "    \n",
    "orders_data = [\n",
    "    {'category': 'Electronics', 'quantity': 10},\n",
    "    {'category': 'Books', 'quantity': 5},\n",
    "    {'category': 'Clothing', 'quantity': 20},\n",
    "    {'category': 'Books', 'quantity': 15},\n",
    "    {'category': 'Electronics', 'quantity': 8},\n",
    "    {'category': 'Clothing', 'quantity': 10},\n",
    "]\n",
    "\n",
    "popular_category, quantity = find_most_popular_category(orders_data)\n",
    "\n",
    "print(f\"The most popular product category is '{popularcategory}' with a total quantity of {quantity}.\")"
   ]
  },
  {
   "cell_type": "code",
   "execution_count": 12,
   "id": "969a11c9-5efa-4b4d-ac8d-3397b09ba8bc",
   "metadata": {},
   "outputs": [
    {
     "name": "stdout",
     "output_type": "stream",
     "text": [
      "83.33333333333333\n"
     ]
    }
   ],
   "source": [
    "#e)\n",
    "\n",
    "grades = {\n",
    "\t\"student1\": 70,\n",
    "    \"student2\": 80,\n",
    "    \"student3\": 100,\n",
    "    }\n",
    "    \n",
    "y = len(grades)\n",
    "x = sum(grades.values())\n",
    "average = x/y\n",
    "\n",
    "print(average)"
   ]
  },
  {
   "cell_type": "code",
   "execution_count": 134,
   "id": "a5edd611-2395-47df-b492-cf27404f9639",
   "metadata": {},
   "outputs": [
    {
     "name": "stdout",
     "output_type": "stream",
     "text": [
      "1. Add New Product\n",
      "2. Update Product Quantity\n",
      "3. Calculate Total Inventory Value\n",
      "4. Display Products\n",
      "5. Generate Low Stock Report\n",
      "6. Exit\n"
     ]
    },
    {
     "name": "stdin",
     "output_type": "stream",
     "text": [
      "Enter your choice (1-6):  6\n"
     ]
    },
    {
     "name": "stdout",
     "output_type": "stream",
     "text": [
      "Exiting the program.\n"
     ]
    }
   ],
   "source": [
    "#f)\n",
    "products = {}\n",
    "\n",
    "def add_product(name, quantity, price):\n",
    "    if name in products:\n",
    "        print(f\"Product '{name}' already exists. Use update_quantity to modify.\")\n",
    "    else:\n",
    "        products[name] = {'quantity': quantity, 'price': price}\n",
    "        print(f\"Product '{name}' added successfully.\")\n",
    "\n",
    "def update_quantity(name, quantity):\n",
    "    if name in products:\n",
    "        products[name]['quantity'] += quantity\n",
    "        print(f\"Updated quantity of '{name}' to {products[name]['quantity']}.\")\n",
    "    else:\n",
    "        print(f\"Product '{name}' does not exist. Use add_product to add it first.\")\n",
    "\n",
    "def calculate_total_value():\n",
    "    total_value = 0\n",
    "    for product, details in products.items():\n",
    "        total_value += details['quantity'] * details['price']\n",
    "    return total_value\n",
    "\n",
    "def low_stock_report(threshold):\n",
    "    low_stock_items = []\n",
    "    for product, details in products.items():\n",
    "        if details['quantity'] <= threshold:\n",
    "            low_stock_items.append(f\"Product: {product}, Quantity: {details['quantity']}, Price: ${details['price']:.2f}\")\n",
    "    \n",
    "    if low_stock_items:\n",
    "        print(\"\\nLow Stock Report (Products with quantity <= threshold):\")\n",
    "        for item in low_stock_items:\n",
    "            print(item)\n",
    "    else:\n",
    "        print(\"No products are low on stock.\")\n",
    "\n",
    "def display_products():\n",
    "    if products:\n",
    "        print(\"\\nCurrent Products:\")\n",
    "        for product, details in products.items():\n",
    "            print(f\"Name: {product}, Quantity: {details['quantity']}, Price: ${details['price']:.2f}\")\n",
    "    else:\n",
    "        print(\"No products available.\")\n",
    "\n",
    "while True:\n",
    "    print(\"1. Add New Product\")\n",
    "    print(\"2. Update Product Quantity\")\n",
    "    print(\"3. Calculate Total Inventory Value\")\n",
    "    print(\"4. Display Products\")\n",
    "    print(\"5. Generate Low Stock Report\")\n",
    "    print(\"6. Exit\")\n",
    "\n",
    "    choice = input(\"Enter your choice (1-6): \")\n",
    "\n",
    "    if choice == '1':\n",
    "        name = input(\"Enter product name: \")\n",
    "        quantity = int(input(\"Enter product quantity: \"))\n",
    "        price = float(input(\"Enter product price: \"))\n",
    "        add_product(name, quantity, price)\n",
    "    elif choice == '2':\n",
    "        name = input(\"Enter product name: \")\n",
    "        quantity = int(input(\"Enter quantity to add: \"))\n",
    "        update_quantity(name, quantity)\n",
    "    elif choice == '3':\n",
    "        total_value = calculate_total_value()\n",
    "        print(f\"Total inventory value: ${total_value:.2f}\")\n",
    "    elif choice == '4':\n",
    "        display_products()\n",
    "    elif choice == '5':\n",
    "        threshold = int(input(\"Enter the threshold quantity for low stock report: \"))\n",
    "        low_stock_report(threshold)\n",
    "    elif choice == '6':\n",
    "        print(\"Exiting the program.\")\n",
    "        break\n",
    "    else:\n",
    "        print(\"Invalid choice. Please try again.\")\n"
   ]
  },
  {
   "cell_type": "code",
   "execution_count": 136,
   "id": "5fc2a524-7dba-4237-ad32-a3a7aeda2ec6",
   "metadata": {},
   "outputs": [
    {
     "name": "stdout",
     "output_type": "stream",
     "text": [
      "Areeba's Average Grade: 88.33\n",
      "Ammar's Average Grade: 84.33\n",
      "Sheryboy's Average Grade: 89.00\n",
      "\n",
      "Top score in Math: Sheryboy with 92\n",
      "Bottom score in Math: Ammar with 78\n",
      "\n",
      "Students sorted by average grade:\n",
      "Sheryboy: 89.00\n",
      "Areeba: 88.33\n",
      "Ammar: 84.33\n"
     ]
    }
   ],
   "source": [
    "#g)\n",
    "students_data = {}\n",
    "\n",
    "def add_student(student_name, grades_dict):\n",
    "    students_data[student_name] = grades_dict\n",
    "\n",
    "def calculate_avg(student_name):\n",
    "    grades = students_data.get(student_name)\n",
    "    return sum(grades.values()) / len(grades) if grades else 0\n",
    "\n",
    "def find_top_and_bottom(subject_name):\n",
    "    top_score = bottom_score = None\n",
    "    top_student = bottom_student = \"\"\n",
    "    \n",
    "    for student, grades in students_data.items():\n",
    "        score = grades.get(subject_name)\n",
    "        if score is not None:\n",
    "            if top_score is None or score > top_score:\n",
    "                top_score, top_student = score, student\n",
    "            if bottom_score is None or score < bottom_score:\n",
    "                bottom_score, bottom_student = score, student\n",
    "    \n",
    "    return (top_student, top_score), (bottom_student, bottom_score)\n",
    "\n",
    "def sort_by_avg_grade():\n",
    "    sorted_list = sorted(students_data.items(), key=lambda student: sum(student[1].values()) / len(student[1]), reverse=True)\n",
    "    return sorted_list\n",
    "\n",
    "add_student(\"Areeba\", {\"Math\": 85, \"Science\": 92, \"History\": 88})\n",
    "add_student(\"Ammar\", {\"Math\": 78, \"Science\": 85, \"History\": 90})\n",
    "add_student(\"Sheryboy\", {\"Math\": 92, \"Science\": 91, \"History\": 84})\n",
    "\n",
    "for student in students_data:\n",
    "    avg = calculate_avg(student)\n",
    "    print(f\"{student}'s Average Grade: {avg:.2f}\")\n",
    "\n",
    "top, bottom = find_top_and_bottom(\"Math\")\n",
    "print(f\"\\nTop score in Math: {top[0]} with {top[1]}\")\n",
    "print(f\"Bottom score in Math: {bottom[0]} with {bottom[1]}\")\n",
    "\n",
    "sorted_students = sort_by_avg_grade()\n",
    "print(\"\\nStudents sorted by average grade:\")\n",
    "for student, _ in sorted_students:\n",
    "    avg = calculate_avg(student)\n",
    "    print(f\"{student}: {avg:.2f}\")\n"
   ]
  },
  {
   "cell_type": "code",
   "execution_count": 138,
   "id": "1906a25e-5ce2-46a9-8d54-7a76d57783be",
   "metadata": {},
   "outputs": [
    {
     "name": "stdout",
     "output_type": "stream",
     "text": [
      "Total cost: $1555.20\n"
     ]
    }
   ],
   "source": [
    "#h)\n",
    "inventory = {\n",
    "    \"Laptop\": {\"price\": 800, \"stock\": 10},\n",
    "    \"Headphones\": {\"price\": 100, \"stock\": 20},\n",
    "    \"Smartphone\": {\"price\": 500, \"stock\": 15},\n",
    "    \"Keyboard\": {\"price\": 50, \"stock\": 30}\n",
    "}\n",
    "\n",
    "cart = {}\n",
    "\n",
    "def add_to_cart(item, quantity):\n",
    "    if item in inventory and inventory[item][\"stock\"] >= quantity:\n",
    "        if item in cart:\n",
    "            cart[item][\"quantity\"] += quantity\n",
    "        else:\n",
    "            cart[item] = {\"price\": inventory[item][\"price\"], \"quantity\": quantity}\n",
    "        inventory[item][\"stock\"] -= quantity\n",
    "    else:\n",
    "        print(f\"Cannot add {quantity} {item}(s)\")\n",
    "\n",
    "def remove_from_cart(item, quantity):\n",
    "    if item in cart and cart[item][\"quantity\"] >= quantity:\n",
    "        cart[item][\"quantity\"] -= quantity\n",
    "        inventory[item][\"stock\"] += quantity\n",
    "        if cart[item][\"quantity\"] == 0:\n",
    "            del cart[item]\n",
    "    else:\n",
    "        print(f\"Cannot remove {quantity} {item}(s)\")\n",
    "\n",
    "def get_total():\n",
    "    return sum(cart[item][\"price\"] * cart[item][\"quantity\"] for item in cart)\n",
    "\n",
    "def checkout(discount=0, tax=0):\n",
    "    total = get_total()\n",
    "    total -= total * (discount / 100)\n",
    "    total += total * (tax / 100)\n",
    "    return total\n",
    "\n",
    "add_to_cart(\"Laptop\", 2)\n",
    "add_to_cart(\"Headphones\", 1)\n",
    "remove_from_cart(\"Headphones\", 1)\n",
    "print(f\"Total cost: ${checkout(discount=10, tax=8):.2f}\")"
   ]
  },
  {
   "cell_type": "code",
   "execution_count": null,
   "id": "2dee4270-9c5c-4e0e-9812-a0de3119c980",
   "metadata": {},
   "outputs": [],
   "source": []
  }
 ],
 "metadata": {
  "kernelspec": {
   "display_name": "Python 3 (ipykernel)",
   "language": "python",
   "name": "python3"
  },
  "language_info": {
   "codemirror_mode": {
    "name": "ipython",
    "version": 3
   },
   "file_extension": ".py",
   "mimetype": "text/x-python",
   "name": "python",
   "nbconvert_exporter": "python",
   "pygments_lexer": "ipython3",
   "version": "3.12.4"
  }
 },
 "nbformat": 4,
 "nbformat_minor": 5
}
